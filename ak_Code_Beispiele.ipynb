{
  "nbformat": 4,
  "nbformat_minor": 0,
  "metadata": {
    "colab": {
      "provenance": [],
      "toc_visible": true,
      "include_colab_link": true
    },
    "kernelspec": {
      "name": "python3",
      "display_name": "Python 3"
    },
    "language_info": {
      "name": "python"
    }
  },
  "cells": [
    {
      "cell_type": "markdown",
      "metadata": {
        "id": "view-in-github",
        "colab_type": "text"
      },
      "source": [
        "<a href=\"https://colab.research.google.com/github/steffi0202/arztkonsultation/blob/main/ak_Code_Beispiele.ipynb\" target=\"_parent\"><img src=\"https://colab.research.google.com/assets/colab-badge.svg\" alt=\"Open In Colab\"/></a>"
      ]
    },
    {
      "cell_type": "markdown",
      "source": [
        "# Einleitung\n",
        "\n",
        "Willkommen zu unseren Code-Beispielen für die API! Diese Beispiele zeigen, wie man verschiedene API-Endpunkte nutzt, um Daten abzurufen, Anrufe zu erstellen und Zeitfenster zu reservieren.\n",
        "\n",
        "Die aktuellste API-Dokumentation finden Sie unter: [ak API Dokumentation - Arztkonsultation ](https://arztkonsultation.de/ak-api-dokumentation/)\n",
        "\n",
        "*Bitte beachten Sie, dass Sie die API-URL ggf. anpassen müssen.*"
      ],
      "metadata": {
        "id": "x0V5tCEHrowE"
      }
    },
    {
      "cell_type": "markdown",
      "source": [
        "# Authentifizierung und Token Abruf\n",
        "\n",
        "Zuerst muss sich ein User via E-Mail-Adresse und Password authentifizieren (z.B. der Admin-User), um einen Token für nachfolgende API-Aufrufe zu erhalten.\n",
        "\n",
        "Das nachfolgende Beispiel sendet eine POST-Anfrage zur Authentifizierung und gibt den Zugriffstoken zurück.\n",
        "\n"
      ],
      "metadata": {
        "id": "2qT0aLRPr691"
      }
    },
    {
      "cell_type": "code",
      "source": [
        "email='admin@arztkonsultation.de'\n",
        "password='xxx'"
      ],
      "metadata": {
        "id": "byjmUm_89pYo"
      },
      "execution_count": null,
      "outputs": []
    },
    {
      "cell_type": "code",
      "execution_count": null,
      "metadata": {
        "id": "WqFHlbG78AJB"
      },
      "outputs": [],
      "source": [
        "import requests\n",
        "\n",
        "def fetch(method, path, data=None, token=None, hostname='app-sandbox.arztkonsultation.de'):\n",
        "    url = f'https://{hostname}{path}'\n",
        "    headers = {\n",
        "        'Content-Type': 'application/json',\n",
        "        'Accept': 'application/json'\n",
        "    }\n",
        "    if token:\n",
        "        headers['Authorization'] = f'Bearer {token}'\n",
        "\n",
        "    response = requests.request(method, url, json=data, headers=headers)\n",
        "\n",
        "    if response.status_code >= 400:\n",
        "        raise Exception(f'Request failed with status code {response.status_code}: {response.text}')\n",
        "\n",
        "    return response.json()\n"
      ]
    },
    {
      "cell_type": "code",
      "source": [
        "def login():\n",
        "    c = {'email': email, 'password': password}\n",
        "    result = fetch('POST', '/api/v2/auth', c)\n",
        "    return result['access_token']\n"
      ],
      "metadata": {
        "id": "Dy9n8pwj_IC7"
      },
      "execution_count": null,
      "outputs": []
    },
    {
      "cell_type": "markdown",
      "source": [
        "# User anlegen\n",
        "\n",
        "Das Skript erstellt einen Benutzer-Account. Der Benutzername setzt sich aus \"Christoph Frei\" und einer  Zahl, die über userCnt definiert wurde, zusammen. Dadurch entsteht eine eindeutige Benutzerkennung für jeden erstellten Benutzer.\n",
        "\n",
        "Es sendet eine Anfrage an die API, um einen neuen Benutzer mit festgelegten Daten wie Name, E-Mail, Passwort usw. zu erstellen."
      ],
      "metadata": {
        "id": "jPjw4uXatdbP"
      }
    },
    {
      "cell_type": "code",
      "source": [
        "def create_user(token, name, email, mobile, pw):\n",
        "    companies = fetch('GET', '/api/v2/companies', token=token)\n",
        "    company_id = companies['data'][0]['id']\n",
        "    user_data = {\n",
        "        \"extid\": \"1111\",\n",
        "        \"name\": name,\n",
        "        \"email\": email,\n",
        "        \"password\": pw,\n",
        "        \"gender\": \"male\",\n",
        "        \"company_id\": company_id,\n",
        "        \"langs\": [0],\n",
        "        \"roles\": [2],\n",
        "        \"mobile\": mobile,\n",
        "        \"notification_options\": [\n",
        "            {\n",
        "                \"new_doc\": \"true\",\n",
        "                \"exp_doc\": \"true\",\n",
        "                \"new_call\": \"true\",\n",
        "                \"chn_call\": \"true\"\n",
        "            }\n",
        "        ],\n",
        "        \"lanr\": \"\",\n",
        "        \"lanr_confirmed\": \"false\",\n",
        "        \"newsletter\": \"false\"\n",
        "    }\n",
        "    user = fetch('POST', '/api/v2/users', user_data, token=token)\n",
        "    return user['data']\n"
      ],
      "metadata": {
        "id": "fDUQKXFyAUUQ"
      },
      "execution_count": null,
      "outputs": []
    },
    {
      "cell_type": "code",
      "source": [
        "token=login()\n",
        "token"
      ],
      "metadata": {
        "id": "3yguQyAu_kv-"
      },
      "execution_count": null,
      "outputs": []
    },
    {
      "cell_type": "code",
      "source": [
        "user=create_user(token, \"Christoph Test\", \"christoph.frei+stage-yeah2@arztkonsultation.de\", \"supergeheim\", \"+491222345678\")\n",
        "user"
      ],
      "metadata": {
        "id": "lVU3e-6NAdb5"
      },
      "execution_count": null,
      "outputs": []
    }
  ]
}